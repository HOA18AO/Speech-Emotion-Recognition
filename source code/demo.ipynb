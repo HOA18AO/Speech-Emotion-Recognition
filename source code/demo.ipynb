{
 "cells": [
  {
   "cell_type": "code",
   "execution_count": 3,
   "metadata": {},
   "outputs": [],
   "source": [
    "import pandas as pd\n",
    "import numpy as np\n",
    "from matplotlib import pyplot as plt\n",
    "import os\n",
    "import librosa"
   ]
  },
  {
   "cell_type": "code",
   "execution_count": 4,
   "metadata": {},
   "outputs": [],
   "source": [
    "import _functions"
   ]
  },
  {
   "cell_type": "code",
   "execution_count": 5,
   "metadata": {},
   "outputs": [],
   "source": [
    "import joblib"
   ]
  },
  {
   "cell_type": "code",
   "execution_count": 75,
   "metadata": {},
   "outputs": [],
   "source": [
    "test_case = 'Cui.wav'"
   ]
  },
  {
   "cell_type": "code",
   "execution_count": 76,
   "metadata": {},
   "outputs": [],
   "source": [
    "signal, sample_rate = librosa.load(test_case, sr=None)"
   ]
  },
  {
   "cell_type": "code",
   "execution_count": 77,
   "metadata": {},
   "outputs": [],
   "source": [
    "frames = _functions.frame_audio_signal(signal=signal)\n",
    "mfcc_features = _functions.mfcc_features_extract(frames=frames, sample_rate=sample_rate, n_mfcc=20)\n",
    "mfcc_features = _functions.filter_mfcc_features_by_frequency(\n",
    "    mfcc_features=mfcc_features,\n",
    "    threshold=5\n",
    ")"
   ]
  },
  {
   "cell_type": "code",
   "execution_count": 78,
   "metadata": {},
   "outputs": [
    {
     "data": {
      "text/plain": [
       "394"
      ]
     },
     "execution_count": 78,
     "metadata": {},
     "output_type": "execute_result"
    }
   ],
   "source": [
    "len(frames)"
   ]
  },
  {
   "cell_type": "code",
   "execution_count": 79,
   "metadata": {},
   "outputs": [],
   "source": [
    "X = pd.DataFrame(mfcc_features)"
   ]
  },
  {
   "cell_type": "code",
   "execution_count": 80,
   "metadata": {},
   "outputs": [
    {
     "data": {
      "text/html": [
       "<div>\n",
       "<style scoped>\n",
       "    .dataframe tbody tr th:only-of-type {\n",
       "        vertical-align: middle;\n",
       "    }\n",
       "\n",
       "    .dataframe tbody tr th {\n",
       "        vertical-align: top;\n",
       "    }\n",
       "\n",
       "    .dataframe thead th {\n",
       "        text-align: right;\n",
       "    }\n",
       "</style>\n",
       "<table border=\"1\" class=\"dataframe\">\n",
       "  <thead>\n",
       "    <tr style=\"text-align: right;\">\n",
       "      <th></th>\n",
       "      <th>0</th>\n",
       "      <th>1</th>\n",
       "      <th>2</th>\n",
       "      <th>3</th>\n",
       "      <th>4</th>\n",
       "      <th>5</th>\n",
       "      <th>6</th>\n",
       "      <th>7</th>\n",
       "      <th>8</th>\n",
       "      <th>9</th>\n",
       "      <th>10</th>\n",
       "      <th>11</th>\n",
       "      <th>12</th>\n",
       "      <th>13</th>\n",
       "      <th>14</th>\n",
       "      <th>15</th>\n",
       "      <th>16</th>\n",
       "      <th>17</th>\n",
       "      <th>18</th>\n",
       "      <th>19</th>\n",
       "    </tr>\n",
       "  </thead>\n",
       "  <tbody>\n",
       "    <tr>\n",
       "      <th>0</th>\n",
       "      <td>-298.788910</td>\n",
       "      <td>123.336319</td>\n",
       "      <td>-18.476851</td>\n",
       "      <td>33.567013</td>\n",
       "      <td>6.320369</td>\n",
       "      <td>32.240738</td>\n",
       "      <td>-10.041006</td>\n",
       "      <td>4.044243</td>\n",
       "      <td>-6.755235</td>\n",
       "      <td>11.491487</td>\n",
       "      <td>-4.731282</td>\n",
       "      <td>-8.934370</td>\n",
       "      <td>-2.531830</td>\n",
       "      <td>-3.490434</td>\n",
       "      <td>3.411159</td>\n",
       "      <td>-9.279697</td>\n",
       "      <td>-0.616118</td>\n",
       "      <td>-7.903779</td>\n",
       "      <td>-1.194757</td>\n",
       "      <td>0.245596</td>\n",
       "    </tr>\n",
       "    <tr>\n",
       "      <th>1</th>\n",
       "      <td>-290.893860</td>\n",
       "      <td>121.529854</td>\n",
       "      <td>-19.117825</td>\n",
       "      <td>34.603554</td>\n",
       "      <td>9.298330</td>\n",
       "      <td>33.774715</td>\n",
       "      <td>-11.137529</td>\n",
       "      <td>2.157682</td>\n",
       "      <td>-7.645475</td>\n",
       "      <td>12.160187</td>\n",
       "      <td>-5.841869</td>\n",
       "      <td>-10.061379</td>\n",
       "      <td>-3.403390</td>\n",
       "      <td>-3.728832</td>\n",
       "      <td>3.603356</td>\n",
       "      <td>-9.855852</td>\n",
       "      <td>-1.363407</td>\n",
       "      <td>-8.561319</td>\n",
       "      <td>-1.262716</td>\n",
       "      <td>-0.707774</td>\n",
       "    </tr>\n",
       "    <tr>\n",
       "      <th>2</th>\n",
       "      <td>-284.961700</td>\n",
       "      <td>123.225021</td>\n",
       "      <td>-19.491825</td>\n",
       "      <td>35.238155</td>\n",
       "      <td>9.701522</td>\n",
       "      <td>35.646183</td>\n",
       "      <td>-13.252636</td>\n",
       "      <td>0.416236</td>\n",
       "      <td>-8.087195</td>\n",
       "      <td>13.649407</td>\n",
       "      <td>-6.627093</td>\n",
       "      <td>-10.516194</td>\n",
       "      <td>-4.603356</td>\n",
       "      <td>-4.227480</td>\n",
       "      <td>4.052565</td>\n",
       "      <td>-9.892624</td>\n",
       "      <td>-1.236090</td>\n",
       "      <td>-9.133907</td>\n",
       "      <td>-0.238242</td>\n",
       "      <td>-1.469603</td>\n",
       "    </tr>\n",
       "    <tr>\n",
       "      <th>3</th>\n",
       "      <td>-281.066925</td>\n",
       "      <td>124.187958</td>\n",
       "      <td>-18.954924</td>\n",
       "      <td>35.501328</td>\n",
       "      <td>11.165857</td>\n",
       "      <td>36.731941</td>\n",
       "      <td>-14.610173</td>\n",
       "      <td>-1.560311</td>\n",
       "      <td>-9.525025</td>\n",
       "      <td>13.452692</td>\n",
       "      <td>-7.523036</td>\n",
       "      <td>-10.139261</td>\n",
       "      <td>-3.880762</td>\n",
       "      <td>-3.811591</td>\n",
       "      <td>4.330548</td>\n",
       "      <td>-10.434061</td>\n",
       "      <td>-2.051611</td>\n",
       "      <td>-9.932382</td>\n",
       "      <td>0.260119</td>\n",
       "      <td>-1.740728</td>\n",
       "    </tr>\n",
       "    <tr>\n",
       "      <th>4</th>\n",
       "      <td>-277.823334</td>\n",
       "      <td>126.092316</td>\n",
       "      <td>-17.580479</td>\n",
       "      <td>36.328804</td>\n",
       "      <td>11.808541</td>\n",
       "      <td>38.056862</td>\n",
       "      <td>-15.070894</td>\n",
       "      <td>-1.796960</td>\n",
       "      <td>-10.007864</td>\n",
       "      <td>13.610717</td>\n",
       "      <td>-7.892466</td>\n",
       "      <td>-11.119875</td>\n",
       "      <td>-4.838026</td>\n",
       "      <td>-4.159308</td>\n",
       "      <td>4.281419</td>\n",
       "      <td>-10.730525</td>\n",
       "      <td>-1.896202</td>\n",
       "      <td>-10.129655</td>\n",
       "      <td>0.612626</td>\n",
       "      <td>-1.721496</td>\n",
       "    </tr>\n",
       "    <tr>\n",
       "      <th>...</th>\n",
       "      <td>...</td>\n",
       "      <td>...</td>\n",
       "      <td>...</td>\n",
       "      <td>...</td>\n",
       "      <td>...</td>\n",
       "      <td>...</td>\n",
       "      <td>...</td>\n",
       "      <td>...</td>\n",
       "      <td>...</td>\n",
       "      <td>...</td>\n",
       "      <td>...</td>\n",
       "      <td>...</td>\n",
       "      <td>...</td>\n",
       "      <td>...</td>\n",
       "      <td>...</td>\n",
       "      <td>...</td>\n",
       "      <td>...</td>\n",
       "      <td>...</td>\n",
       "      <td>...</td>\n",
       "      <td>...</td>\n",
       "    </tr>\n",
       "    <tr>\n",
       "      <th>331</th>\n",
       "      <td>-417.454865</td>\n",
       "      <td>166.068390</td>\n",
       "      <td>-47.493416</td>\n",
       "      <td>52.944950</td>\n",
       "      <td>-35.853142</td>\n",
       "      <td>37.919483</td>\n",
       "      <td>-17.511522</td>\n",
       "      <td>31.616909</td>\n",
       "      <td>-6.842558</td>\n",
       "      <td>13.637963</td>\n",
       "      <td>10.627563</td>\n",
       "      <td>-2.972001</td>\n",
       "      <td>6.894312</td>\n",
       "      <td>-4.745499</td>\n",
       "      <td>2.661083</td>\n",
       "      <td>-7.684777</td>\n",
       "      <td>4.427783</td>\n",
       "      <td>-3.988073</td>\n",
       "      <td>0.024168</td>\n",
       "      <td>-3.452160</td>\n",
       "    </tr>\n",
       "    <tr>\n",
       "      <th>332</th>\n",
       "      <td>-415.716278</td>\n",
       "      <td>167.932968</td>\n",
       "      <td>-49.090107</td>\n",
       "      <td>54.456768</td>\n",
       "      <td>-37.054012</td>\n",
       "      <td>38.924580</td>\n",
       "      <td>-19.503185</td>\n",
       "      <td>32.150425</td>\n",
       "      <td>-8.109799</td>\n",
       "      <td>14.688873</td>\n",
       "      <td>10.128887</td>\n",
       "      <td>-2.019983</td>\n",
       "      <td>6.397440</td>\n",
       "      <td>-4.078905</td>\n",
       "      <td>2.595871</td>\n",
       "      <td>-8.480929</td>\n",
       "      <td>4.986908</td>\n",
       "      <td>-4.105056</td>\n",
       "      <td>0.786352</td>\n",
       "      <td>-3.288663</td>\n",
       "    </tr>\n",
       "    <tr>\n",
       "      <th>333</th>\n",
       "      <td>-413.817810</td>\n",
       "      <td>166.655350</td>\n",
       "      <td>-47.121628</td>\n",
       "      <td>54.362206</td>\n",
       "      <td>-36.293327</td>\n",
       "      <td>38.124607</td>\n",
       "      <td>-19.926395</td>\n",
       "      <td>32.551922</td>\n",
       "      <td>-8.741309</td>\n",
       "      <td>15.710842</td>\n",
       "      <td>8.839460</td>\n",
       "      <td>-1.465755</td>\n",
       "      <td>4.925076</td>\n",
       "      <td>-3.789055</td>\n",
       "      <td>2.707587</td>\n",
       "      <td>-7.875112</td>\n",
       "      <td>4.678326</td>\n",
       "      <td>-4.903718</td>\n",
       "      <td>0.468039</td>\n",
       "      <td>-4.266255</td>\n",
       "    </tr>\n",
       "    <tr>\n",
       "      <th>334</th>\n",
       "      <td>-413.482910</td>\n",
       "      <td>166.909805</td>\n",
       "      <td>-47.143272</td>\n",
       "      <td>55.412483</td>\n",
       "      <td>-36.337742</td>\n",
       "      <td>39.422798</td>\n",
       "      <td>-19.369785</td>\n",
       "      <td>33.573715</td>\n",
       "      <td>-10.306802</td>\n",
       "      <td>15.848177</td>\n",
       "      <td>6.695860</td>\n",
       "      <td>-0.762198</td>\n",
       "      <td>4.377656</td>\n",
       "      <td>-2.912509</td>\n",
       "      <td>2.365132</td>\n",
       "      <td>-8.519761</td>\n",
       "      <td>4.967990</td>\n",
       "      <td>-4.401357</td>\n",
       "      <td>1.684498</td>\n",
       "      <td>-4.198809</td>\n",
       "    </tr>\n",
       "    <tr>\n",
       "      <th>335</th>\n",
       "      <td>-415.989868</td>\n",
       "      <td>166.492889</td>\n",
       "      <td>-45.253880</td>\n",
       "      <td>55.268169</td>\n",
       "      <td>-34.937317</td>\n",
       "      <td>38.745750</td>\n",
       "      <td>-18.256172</td>\n",
       "      <td>32.628078</td>\n",
       "      <td>-10.294728</td>\n",
       "      <td>15.137019</td>\n",
       "      <td>6.245611</td>\n",
       "      <td>-0.755767</td>\n",
       "      <td>4.919516</td>\n",
       "      <td>-2.179180</td>\n",
       "      <td>2.243123</td>\n",
       "      <td>-9.406170</td>\n",
       "      <td>4.367886</td>\n",
       "      <td>-4.291237</td>\n",
       "      <td>1.865945</td>\n",
       "      <td>-3.458704</td>\n",
       "    </tr>\n",
       "  </tbody>\n",
       "</table>\n",
       "<p>336 rows × 20 columns</p>\n",
       "</div>"
      ],
      "text/plain": [
       "             0           1          2          3          4          5   \\\n",
       "0   -298.788910  123.336319 -18.476851  33.567013   6.320369  32.240738   \n",
       "1   -290.893860  121.529854 -19.117825  34.603554   9.298330  33.774715   \n",
       "2   -284.961700  123.225021 -19.491825  35.238155   9.701522  35.646183   \n",
       "3   -281.066925  124.187958 -18.954924  35.501328  11.165857  36.731941   \n",
       "4   -277.823334  126.092316 -17.580479  36.328804  11.808541  38.056862   \n",
       "..          ...         ...        ...        ...        ...        ...   \n",
       "331 -417.454865  166.068390 -47.493416  52.944950 -35.853142  37.919483   \n",
       "332 -415.716278  167.932968 -49.090107  54.456768 -37.054012  38.924580   \n",
       "333 -413.817810  166.655350 -47.121628  54.362206 -36.293327  38.124607   \n",
       "334 -413.482910  166.909805 -47.143272  55.412483 -36.337742  39.422798   \n",
       "335 -415.989868  166.492889 -45.253880  55.268169 -34.937317  38.745750   \n",
       "\n",
       "            6          7          8          9          10         11  \\\n",
       "0   -10.041006   4.044243  -6.755235  11.491487  -4.731282  -8.934370   \n",
       "1   -11.137529   2.157682  -7.645475  12.160187  -5.841869 -10.061379   \n",
       "2   -13.252636   0.416236  -8.087195  13.649407  -6.627093 -10.516194   \n",
       "3   -14.610173  -1.560311  -9.525025  13.452692  -7.523036 -10.139261   \n",
       "4   -15.070894  -1.796960 -10.007864  13.610717  -7.892466 -11.119875   \n",
       "..         ...        ...        ...        ...        ...        ...   \n",
       "331 -17.511522  31.616909  -6.842558  13.637963  10.627563  -2.972001   \n",
       "332 -19.503185  32.150425  -8.109799  14.688873  10.128887  -2.019983   \n",
       "333 -19.926395  32.551922  -8.741309  15.710842   8.839460  -1.465755   \n",
       "334 -19.369785  33.573715 -10.306802  15.848177   6.695860  -0.762198   \n",
       "335 -18.256172  32.628078 -10.294728  15.137019   6.245611  -0.755767   \n",
       "\n",
       "           12        13        14         15        16         17        18  \\\n",
       "0   -2.531830 -3.490434  3.411159  -9.279697 -0.616118  -7.903779 -1.194757   \n",
       "1   -3.403390 -3.728832  3.603356  -9.855852 -1.363407  -8.561319 -1.262716   \n",
       "2   -4.603356 -4.227480  4.052565  -9.892624 -1.236090  -9.133907 -0.238242   \n",
       "3   -3.880762 -3.811591  4.330548 -10.434061 -2.051611  -9.932382  0.260119   \n",
       "4   -4.838026 -4.159308  4.281419 -10.730525 -1.896202 -10.129655  0.612626   \n",
       "..        ...       ...       ...        ...       ...        ...       ...   \n",
       "331  6.894312 -4.745499  2.661083  -7.684777  4.427783  -3.988073  0.024168   \n",
       "332  6.397440 -4.078905  2.595871  -8.480929  4.986908  -4.105056  0.786352   \n",
       "333  4.925076 -3.789055  2.707587  -7.875112  4.678326  -4.903718  0.468039   \n",
       "334  4.377656 -2.912509  2.365132  -8.519761  4.967990  -4.401357  1.684498   \n",
       "335  4.919516 -2.179180  2.243123  -9.406170  4.367886  -4.291237  1.865945   \n",
       "\n",
       "           19  \n",
       "0    0.245596  \n",
       "1   -0.707774  \n",
       "2   -1.469603  \n",
       "3   -1.740728  \n",
       "4   -1.721496  \n",
       "..        ...  \n",
       "331 -3.452160  \n",
       "332 -3.288663  \n",
       "333 -4.266255  \n",
       "334 -4.198809  \n",
       "335 -3.458704  \n",
       "\n",
       "[336 rows x 20 columns]"
      ]
     },
     "execution_count": 80,
     "metadata": {},
     "output_type": "execute_result"
    }
   ],
   "source": [
    "X"
   ]
  },
  {
   "cell_type": "code",
   "execution_count": 100,
   "metadata": {},
   "outputs": [],
   "source": [
    "model_knn = joblib.load('model_KNN.joblib')\n",
    "model_rf  = joblib.load('randomForestModel.joblib')"
   ]
  },
  {
   "cell_type": "code",
   "execution_count": 101,
   "metadata": {},
   "outputs": [
    {
     "ename": "NotFittedError",
     "evalue": "This KNeighborsClassifier instance is not fitted yet. Call 'fit' with appropriate arguments before using this estimator.",
     "output_type": "error",
     "traceback": [
      "\u001b[1;31m---------------------------------------------------------------------------\u001b[0m",
      "\u001b[1;31mNotFittedError\u001b[0m                            Traceback (most recent call last)",
      "Cell \u001b[1;32mIn[101], line 1\u001b[0m\n\u001b[1;32m----> 1\u001b[0m Y_pred2 \u001b[38;5;241m=\u001b[39m \u001b[43mmodel_knn\u001b[49m\u001b[38;5;241;43m.\u001b[39;49m\u001b[43mpredict\u001b[49m\u001b[43m(\u001b[49m\u001b[43mX\u001b[49m\u001b[43m)\u001b[49m\n",
      "File \u001b[1;32mc:\\Users\\tranh\\AppData\\Local\\Programs\\Python\\Python310\\lib\\site-packages\\sklearn\\neighbors\\_classification.py:254\u001b[0m, in \u001b[0;36mKNeighborsClassifier.predict\u001b[1;34m(self, X)\u001b[0m\n\u001b[0;32m    240\u001b[0m \u001b[38;5;28;01mdef\u001b[39;00m \u001b[38;5;21mpredict\u001b[39m(\u001b[38;5;28mself\u001b[39m, X):\n\u001b[0;32m    241\u001b[0m \u001b[38;5;250m    \u001b[39m\u001b[38;5;124;03m\"\"\"Predict the class labels for the provided data.\u001b[39;00m\n\u001b[0;32m    242\u001b[0m \n\u001b[0;32m    243\u001b[0m \u001b[38;5;124;03m    Parameters\u001b[39;00m\n\u001b[1;32m   (...)\u001b[0m\n\u001b[0;32m    252\u001b[0m \u001b[38;5;124;03m        Class labels for each data sample.\u001b[39;00m\n\u001b[0;32m    253\u001b[0m \u001b[38;5;124;03m    \"\"\"\u001b[39;00m\n\u001b[1;32m--> 254\u001b[0m     \u001b[43mcheck_is_fitted\u001b[49m\u001b[43m(\u001b[49m\u001b[38;5;28;43mself\u001b[39;49m\u001b[43m,\u001b[49m\u001b[43m \u001b[49m\u001b[38;5;124;43m\"\u001b[39;49m\u001b[38;5;124;43m_fit_method\u001b[39;49m\u001b[38;5;124;43m\"\u001b[39;49m\u001b[43m)\u001b[49m\n\u001b[0;32m    255\u001b[0m     \u001b[38;5;28;01mif\u001b[39;00m \u001b[38;5;28mself\u001b[39m\u001b[38;5;241m.\u001b[39mweights \u001b[38;5;241m==\u001b[39m \u001b[38;5;124m\"\u001b[39m\u001b[38;5;124muniform\u001b[39m\u001b[38;5;124m\"\u001b[39m:\n\u001b[0;32m    256\u001b[0m         \u001b[38;5;28;01mif\u001b[39;00m \u001b[38;5;28mself\u001b[39m\u001b[38;5;241m.\u001b[39m_fit_method \u001b[38;5;241m==\u001b[39m \u001b[38;5;124m\"\u001b[39m\u001b[38;5;124mbrute\u001b[39m\u001b[38;5;124m\"\u001b[39m \u001b[38;5;129;01mand\u001b[39;00m ArgKminClassMode\u001b[38;5;241m.\u001b[39mis_usable_for(\n\u001b[0;32m    257\u001b[0m             X, \u001b[38;5;28mself\u001b[39m\u001b[38;5;241m.\u001b[39m_fit_X, \u001b[38;5;28mself\u001b[39m\u001b[38;5;241m.\u001b[39mmetric\n\u001b[0;32m    258\u001b[0m         ):\n",
      "File \u001b[1;32mc:\\Users\\tranh\\AppData\\Local\\Programs\\Python\\Python310\\lib\\site-packages\\sklearn\\utils\\validation.py:1622\u001b[0m, in \u001b[0;36mcheck_is_fitted\u001b[1;34m(estimator, attributes, msg, all_or_any)\u001b[0m\n\u001b[0;32m   1619\u001b[0m     \u001b[38;5;28;01mraise\u001b[39;00m \u001b[38;5;167;01mTypeError\u001b[39;00m(\u001b[38;5;124m\"\u001b[39m\u001b[38;5;132;01m%s\u001b[39;00m\u001b[38;5;124m is not an estimator instance.\u001b[39m\u001b[38;5;124m\"\u001b[39m \u001b[38;5;241m%\u001b[39m (estimator))\n\u001b[0;32m   1621\u001b[0m \u001b[38;5;28;01mif\u001b[39;00m \u001b[38;5;129;01mnot\u001b[39;00m _is_fitted(estimator, attributes, all_or_any):\n\u001b[1;32m-> 1622\u001b[0m     \u001b[38;5;28;01mraise\u001b[39;00m NotFittedError(msg \u001b[38;5;241m%\u001b[39m {\u001b[38;5;124m\"\u001b[39m\u001b[38;5;124mname\u001b[39m\u001b[38;5;124m\"\u001b[39m: \u001b[38;5;28mtype\u001b[39m(estimator)\u001b[38;5;241m.\u001b[39m\u001b[38;5;18m__name__\u001b[39m})\n",
      "\u001b[1;31mNotFittedError\u001b[0m: This KNeighborsClassifier instance is not fitted yet. Call 'fit' with appropriate arguments before using this estimator."
     ]
    }
   ],
   "source": [
    "Y_pred2 = model_knn.predict(X)"
   ]
  },
  {
   "cell_type": "code",
   "execution_count": 82,
   "metadata": {},
   "outputs": [
    {
     "name": "stderr",
     "output_type": "stream",
     "text": [
      "c:\\Users\\tranh\\AppData\\Local\\Programs\\Python\\Python310\\lib\\site-packages\\sklearn\\base.py:493: UserWarning: X does not have valid feature names, but RandomForestClassifier was fitted with feature names\n",
      "  warnings.warn(\n"
     ]
    }
   ],
   "source": [
    "Y_pred = model_rf.predict(X)"
   ]
  },
  {
   "cell_type": "code",
   "execution_count": 83,
   "metadata": {},
   "outputs": [
    {
     "data": {
      "text/plain": [
       "array([[0, 0, 0, ..., 0, 0, 0],\n",
       "       [0, 0, 0, ..., 0, 0, 0],\n",
       "       [0, 0, 0, ..., 0, 0, 0],\n",
       "       ...,\n",
       "       [0, 0, 0, ..., 0, 0, 0],\n",
       "       [0, 0, 0, ..., 0, 0, 0],\n",
       "       [0, 0, 0, ..., 0, 0, 0]], dtype=uint8)"
      ]
     },
     "execution_count": 83,
     "metadata": {},
     "output_type": "execute_result"
    }
   ],
   "source": [
    "Y_pred"
   ]
  },
  {
   "cell_type": "code",
   "execution_count": 84,
   "metadata": {},
   "outputs": [],
   "source": [
    "label_encoder = joblib.load('label_encoder.joblib')"
   ]
  },
  {
   "cell_type": "code",
   "execution_count": 91,
   "metadata": {},
   "outputs": [],
   "source": [
    "emotion = {\n",
    "    'happy' : 0,\n",
    "    'sad' : 0,\n",
    "    'surprise' : 0,\n",
    "    'angry' : 0,\n",
    "    'fear' : 0,\n",
    "    'disgust' : 0,\n",
    "    'neutral' : 0\n",
    "}"
   ]
  },
  {
   "cell_type": "code",
   "execution_count": 85,
   "metadata": {},
   "outputs": [
    {
     "name": "stdout",
     "output_type": "stream",
     "text": [
      "22\n"
     ]
    }
   ],
   "source": [
    "print(emotion['angry'])"
   ]
  },
  {
   "cell_type": "code",
   "execution_count": 86,
   "metadata": {},
   "outputs": [],
   "source": [
    "result = label_encoder.inverse_transform(Y_pred.argmax(axis=1))"
   ]
  },
  {
   "cell_type": "code",
   "execution_count": 87,
   "metadata": {},
   "outputs": [],
   "source": [
    "vote, count = np.unique(result, return_counts=True)"
   ]
  },
  {
   "cell_type": "code",
   "execution_count": 92,
   "metadata": {},
   "outputs": [],
   "source": [
    "for i in range(len(vote)):\n",
    "    emotion[vote[i]] = count[i]"
   ]
  },
  {
   "cell_type": "code",
   "execution_count": 93,
   "metadata": {},
   "outputs": [
    {
     "name": "stdout",
     "output_type": "stream",
     "text": [
      "{'happy': 0, 'sad': 0, 'surprise': 0, 'angry': 336, 'fear': 0, 'disgust': 0, 'neutral': 0}\n"
     ]
    }
   ],
   "source": [
    "print(emotion)"
   ]
  },
  {
   "cell_type": "code",
   "execution_count": 98,
   "metadata": {},
   "outputs": [
    {
     "data": {
      "image/png": "[encoded data removed]",
      "text/plain": [
       "<Figure size 1000x600 with 1 Axes>"
      ]
     },
     "metadata": {},
     "output_type": "display_data"
    }
   ],
   "source": [
    "labels = list(emotion.keys())\n",
    "values = list(emotion.values())\n",
    "# Define a list of colors, one for each bar\n",
    "colors = ['#FF6347', '#4682B4', '#FFD700', '#ADFF2F', '#FF69B4', '#8A2BE2', '#00CED1']\n",
    "\n",
    "# Create the bar chart\n",
    "plt.figure(figsize=(10, 6))\n",
    "bars = plt.bar(labels, values, color=colors)\n",
    "\n",
    "# Add value labels on top of each bar\n",
    "for bar in bars:\n",
    "    yval = bar.get_height()\n",
    "    plt.text(bar.get_x() + bar.get_width()/2, yval + 0.1, int(yval), ha='center', va='bottom')\n",
    "\n",
    "plt.xlabel('Emotion')\n",
    "plt.ylabel('Frequency')\n",
    "plt.title('Frequency of Each Emotion in Dataset')\n",
    "plt.grid(axis='y', linestyle='--', alpha=0.7)\n",
    "\n",
    "# Display the chart\n",
    "plt.show()"
   ]
  }
 ],
 "metadata": {
  "kernelspec": {
   "display_name": "Python 3",
   "language": "python",
   "name": "python3"
  },
  "language_info": {
   "codemirror_mode": {
    "name": "ipython",
    "version": 3
   },
   "file_extension": ".py",
   "mimetype": "text/x-python",
   "name": "python",
   "nbconvert_exporter": "python",
   "pygments_lexer": "ipython3",
   "version": "3.10.4"
  }
 },
 "nbformat": 4,
 "nbformat_minor": 2
}
